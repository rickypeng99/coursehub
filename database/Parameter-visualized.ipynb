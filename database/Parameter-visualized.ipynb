{
 "cells": [
  {
   "cell_type": "code",
   "execution_count": 20,
   "metadata": {},
   "outputs": [],
   "source": [
    "import xlrd\n",
    "import random\n",
    "import string\n",
    "import names\n",
    "import numpy as np\n",
    "import bcrypt\n",
    "import matplotlib.pyplot as plt\n",
    "import pandas as pd\n",
    "from numpy import corrcoef"
   ]
  },
  {
   "cell_type": "code",
   "execution_count": 12,
   "metadata": {},
   "outputs": [],
   "source": [
    "def test(a,b,user_ip, avg_ip, num_user_skills, num_group_skills):\n",
    "    # a: weight of ip_ratio(0-100), b: weight of skills_ratio(0-100)\n",
    "    skill_ratio = (num_user_skills / num_group_skills) * 100\n",
    "    ip_ratio = max(500 - abs(user_ip - avg_ip), 0) * 0.2 \n",
    "    result = ip_ratio * a + b * skill_ratio\n",
    "    return result"
   ]
  },
  {
   "cell_type": "code",
   "execution_count": 156,
   "metadata": {
    "scrolled": false
   },
   "outputs": [
    {
     "name": "stdout",
     "output_type": "stream",
     "text": [
      "ip_ratio = 0.1 skill_ratio = 0.9\n",
      "ip_ratio = 0.2 skill_ratio = 0.8\n",
      "ip_ratio = 0.3 skill_ratio = 0.7\n",
      "ip_ratio = 0.4 skill_ratio = 0.6\n",
      "ip_ratio = 0.5 skill_ratio = 0.5\n",
      "ip_ratio = 0.6 skill_ratio = 0.4\n",
      "ip_ratio = 0.7 skill_ratio = 0.3\n",
      "ip_ratio = 0.8 skill_ratio = 0.2\n",
      "ip_ratio = 0.9 skill_ratio = 0.1\n",
      "[0, 0, 0, 395, 1495, 1395, 451, 3726, 445]\n"
     ]
    },
    {
     "data": {
      "text/plain": [
       "[<matplotlib.lines.Line2D at 0x121eb8b00>]"
      ]
     },
     "execution_count": 156,
     "metadata": {},
     "output_type": "execute_result"
    },
    {
     "data": {
      "image/png": "[encoded data removed]",
      "text/plain": [
       "<Figure size 432x288 with 1 Axes>"
      ]
     },
     "metadata": {
      "needs_background": "light"
     },
     "output_type": "display_data"
    }
   ],
   "source": [
    "# assume the avg_skill that a group need is 5\n",
    "ratio_error = []\n",
    "for a in range(1, 10):\n",
    "    data = {'ip_ratio':[],\n",
    "            'user_ip':[],\n",
    "            'group_avg':[],\n",
    "            'user_skill':[],\n",
    "            'result':[]\n",
    "                }\n",
    "    for i in range(10000):\n",
    "        user_ip = random.randrange(600,1000)\n",
    "        avg_ip = random.randrange(600,1000)\n",
    "        user_skills = random.randrange(6)\n",
    "        group_skills = 5\n",
    "        result_list = []\n",
    "\n",
    "        result = (test(a * 0.1, 1 - a * 0.1, user_ip,avg_ip, user_skills, group_skills))   \n",
    "        data['user_ip'].append(user_ip)\n",
    "        data['group_avg'].append(avg_ip)\n",
    "        data['ip_ratio'].append(a * 0.1)\n",
    "        data['user_skill'].append(user_skills)\n",
    "        data['result'].append(result)\n",
    "    df = pd.DataFrame(data)\n",
    "    \n",
    "    print(\"ip_ratio = \" + str(a / 10) + \" skill_ratio = {0:.1f}\".format(1 - a * 0.1))\n",
    "    #display(df.sort_values(by=['result'], ascending=False).style.hide_index())\n",
    "    \n",
    "    diff = [abs(a - b) for (a,b) in zip(data['user_ip'],data['group_avg'])]\n",
    "    skill_vs_result = [[a,b] for (a,b) in zip(data['user_skill'], data['result'])]\n",
    "    sort_list = sorted(skill_vs_result, key=lambda x : x[1])[::-1]\n",
    "    prev = 5\n",
    "    count = 0\n",
    "    for [a,b] in sort_list:\n",
    "        if (abs(a - prev) >= 2):\n",
    "            count += 1\n",
    "        prev = a\n",
    "    ratio_error.append(count)\n",
    "print(ratio_error)\n",
    "plt.xlabel(\"weight of ip_ratio\")\n",
    "plt.ylabel(\"# of error out of 10000\")\n",
    "plt.plot([i * 0.1 for i in range(1,10)],ratio_error)"
   ]
  },
  {
   "cell_type": "code",
   "execution_count": null,
   "metadata": {},
   "outputs": [],
   "source": []
  }
 ],
 "metadata": {
  "kernelspec": {
   "display_name": "Python 3",
   "language": "python",
   "name": "python3"
  },
  "language_info": {
   "codemirror_mode": {
    "name": "ipython",
    "version": 3
   },
   "file_extension": ".py",
   "mimetype": "text/x-python",
   "name": "python",
   "nbconvert_exporter": "python",
   "pygments_lexer": "ipython3",
   "version": "3.7.2"
  }
 },
 "nbformat": 4,
 "nbformat_minor": 2
}
