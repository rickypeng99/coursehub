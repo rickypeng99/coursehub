{
 "cells": [
  {
   "cell_type": "code",
   "execution_count": null,
   "metadata": {},
   "outputs": [],
   "source": [
    "import random\n",
    "import numpy as np\n",
    "from statistics import mean\n",
    "def random_skills(parameter):\n",
    "    language_list = [\"CSS\",\"Html\",\"SQL\",\"PHP\",\"Haskell\",\"C++\",\"C\",\"Python\",\"Java\",\"C#\",\"R\",\"Java Script\",\"Go\",\"Swift\",\"Ruby\"]\n",
    "    topic_list = [\"Mathematical foundations\",\n",
    "                 \"Algorithms\",\n",
    "                 \"Data Structures\",\n",
    "                 \"Artificial intelligence\",\n",
    "                 \"Automated reasoning\",\n",
    "                 \"Computer vision\",\n",
    "                 \"Machine learning\",\n",
    "                 \"Evolutionary computing\",\n",
    "                 \"Natural language processing\",\n",
    "                 \"Robotics\",\n",
    "                 \"Networking\",\n",
    "                 \"Computer security\",\n",
    "                 \"Cryptography\",\n",
    "                 \"Computer architecture\",\n",
    "                 \"Operating systems\",\n",
    "                 \"Computer graphics\",\n",
    "                 \"Image processsing\",\n",
    "                 \"Information visualization\",\n",
    "                 \"Parallel computing\",\n",
    "                 \"Concurrency\",\n",
    "                 \"Distributed computing\",\n",
    "                 \"Relatinal databases\",\n",
    "                 \"Structured Storage\",\n",
    "                 \"Data mining\",\n",
    "                 \"Programming languages\",\n",
    "                 \"Compilers\",\n",
    "                 \"Scientific computing\",\n",
    "                 \"Formal methods\",\n",
    "                 \"Software engineering\",\n",
    "                 \"Algorithm design\",\n",
    "                 \"Computer programming\",\n",
    "                 \"Human-computer interaction\",\n",
    "                 \"Reverse engineering\"]\n",
    "    language_total = random.randrange(parameter[0],parameter[1])\n",
    "    topic_total = random.randrange(parameter[2],parameter[3])\n",
    "    output = np.append(np.random.choice(language_list, language_total, replace=False), np.random.choice(topic_list, topic_total, replace=False)).tolist()\n",
    "    return output\n",
    "def calculate(a, b, comments):\n",
    "    A = (sum(comments) / 3 - 3) * 25 * (1 - (b - a) / 1000)\n",
    "    if (A > 0):\n",
    "        return (1000 - b) * 0.002 * A + b\n",
    "    else:\n",
    "        return (b - 200) * 0.004 * A + b"
   ]
  },
  {
   "cell_type": "code",
   "execution_count": null,
   "metadata": {},
   "outputs": [],
   "source": [
    "def matching(user_ip, group_ips, user_skills, group_skills):\n",
    "    total = len(group_skills)\n",
    "    match = len(list(set(user_skills) & set(group_skills)))\n",
    "    skill_ratio = match / total * 100\n",
    "    avg_ip = mean(group_ips)\n",
    "    ip_ratio = max(500 - abs(user_ip - avg_ip), 0)\n",
    "    result = ip_ratio * 0.2 * 0.4 + 0.6 * skill_ratio\n",
    "    print(\"User with {} IP -> join group {} IP {} avg IP -> {}/{} matched skill -> {} matching ratio\".format(user_ip,group_ips,int(avg_ip),match,total,int(result)))\n",
    "    return result"
   ]
  },
  {
   "cell_type": "code",
   "execution_count": 60,
   "metadata": {},
   "outputs": [
    {
     "name": "stdout",
     "output_type": "stream",
     "text": [
      "279 give 775 a review of [3, 5, 1] -> didn't change point to 775\n",
      "290 give 416 a review of [4, 2, 1] -> decrase 12 to 403\n",
      "929 give 872 a review of [5, 4, 5] -> increase 11 to 883\n",
      "301 give 987 a review of [5, 3, 4] -> increase 0 to 987\n",
      "502 give 923 a review of [2, 4, 2] -> decrase 13 to 909\n",
      "717 give 329 a review of [3, 1, 5] -> didn't change point to 329\n",
      "581 give 289 a review of [4, 3, 1] -> decrase 3 to 285\n",
      "925 give 758 a review of [1, 2, 5] -> decrase 21 to 736\n",
      "697 give 442 a review of [3, 5, 4] -> increase 35 to 477\n",
      "292 give 605 a review of [3, 2, 3] -> decrase 9 to 595\n",
      "902 give 442 a review of [2, 4, 2] -> decrase 11 to 430\n",
      "441 give 277 a review of [3, 1, 3] -> decrase 5 to 271\n",
      "761 give 724 a review of [4, 2, 2] -> decrase 18 to 705\n",
      "563 give 389 a review of [4, 2, 4] -> increase 11 to 400\n",
      "663 give 549 a review of [5, 2, 3] -> increase 8 to 557\n",
      "681 give 265 a review of [2, 2, 2] -> decrase 9 to 255\n",
      "435 give 330 a review of [5, 2, 3] -> increase 12 to 342\n",
      "587 give 345 a review of [3, 3, 2] -> decrase 6 to 338\n",
      "804 give 312 a review of [3, 3, 5] -> increase 34 to 346\n",
      "853 give 595 a review of [4, 2, 2] -> decrase 16 to 578\n"
     ]
    }
   ],
   "source": [
    "# review\n",
    "for i in range(20):\n",
    "    a = random.randrange(200,1000)\n",
    "    b = random.randrange(200,1000)\n",
    "    comments = [(random.randrange(1,6)) for i in range(3)]\n",
    "    result = calculate(a,b,comments)\n",
    "    diff = (result - b)\n",
    "    word = \"\"\n",
    "    if (diff < 0):\n",
    "        word = \"decrase {} to \".format(int(-diff))\n",
    "    if (diff == 0):\n",
    "        word = \"didn't change point to \"\n",
    "    if (diff > 0):\n",
    "        word = \"increase {} to \".format(int(diff))\n",
    "    print(str(a) + \" give \" + str(b) + \" a review of {} -> \".format(comments) + word + str(int(result)))"
   ]
  },
  {
   "cell_type": "code",
   "execution_count": 65,
   "metadata": {},
   "outputs": [
    {
     "name": "stdout",
     "output_type": "stream",
     "text": [
      "User with 267 IP -> join group [895, 254, 890] IP 679 avg IP -> 0/3 matched skill -> 6 matching ratio\n",
      "User with 553 IP -> join group [738] IP 738 avg IP -> 0/4 matched skill -> 25 matching ratio\n",
      "User with 534 IP -> join group [805, 404, 680] IP 629 avg IP -> 1/3 matched skill -> 52 matching ratio\n",
      "User with 470 IP -> join group [301, 509] IP 405 avg IP -> 0/6 matched skill -> 34 matching ratio\n",
      "User with 657 IP -> join group [414, 221] IP 317 avg IP -> 3/5 matched skill -> 48 matching ratio\n",
      "User with 588 IP -> join group [990] IP 990 avg IP -> 2/4 matched skill -> 37 matching ratio\n",
      "User with 748 IP -> join group [713, 826] IP 769 avg IP -> 2/4 matched skill -> 68 matching ratio\n",
      "User with 737 IP -> join group [265, 796] IP 530 avg IP -> 1/5 matched skill -> 35 matching ratio\n",
      "User with 324 IP -> join group [254, 551, 800] IP 535 avg IP -> 1/5 matched skill -> 35 matching ratio\n",
      "User with 897 IP -> join group [331, 459] IP 395 avg IP -> 2/3 matched skill -> 39 matching ratio\n",
      "User with 440 IP -> join group [391, 839] IP 615 avg IP -> 1/3 matched skill -> 46 matching ratio\n",
      "User with 696 IP -> join group [566, 324] IP 445 avg IP -> 2/3 matched skill -> 59 matching ratio\n",
      "User with 350 IP -> join group [780, 949] IP 864 avg IP -> 0/3 matched skill -> 0 matching ratio\n",
      "User with 234 IP -> join group [625, 674, 729] IP 676 avg IP -> 2/5 matched skill -> 28 matching ratio\n",
      "User with 520 IP -> join group [869, 219] IP 544 avg IP -> 1/4 matched skill -> 53 matching ratio\n",
      "User with 470 IP -> join group [221] IP 221 avg IP -> 3/6 matched skill -> 50 matching ratio\n",
      "User with 981 IP -> join group [413, 885] IP 649 avg IP -> 1/3 matched skill -> 33 matching ratio\n",
      "User with 446 IP -> join group [460, 328] IP 394 avg IP -> 1/6 matched skill -> 45 matching ratio\n",
      "User with 735 IP -> join group [231, 570, 668] IP 489 avg IP -> 5/6 matched skill -> 70 matching ratio\n",
      "User with 390 IP -> join group [437, 427] IP 432 avg IP -> 2/4 matched skill -> 66 matching ratio\n"
     ]
    }
   ],
   "source": [
    "# matching\n",
    "for i in range(20):\n",
    "    a = random.randrange(200,1000)\n",
    "    b = [random.randrange(200,1000) for i in range(random.randrange(1,4))]\n",
    "    user_skills = random_skills([5,8,10,15])\n",
    "    group_skills = random_skills([1,3,1,5])\n",
    "    result = matching (a, b, user_skills, group_skills)\n",
    "    "
   ]
  },
  {
   "cell_type": "code",
   "execution_count": 64,
   "metadata": {},
   "outputs": [
    {
     "name": "stdout",
     "output_type": "stream",
     "text": [
      "200 give 200 a review of [5, 5, 5] -> increase 80 to 280\n"
     ]
    }
   ],
   "source": [
    "##### review 2\n",
    "a = 200\n",
    "b = 200\n",
    "comments = [5,5,5]\n",
    "result = calculate(a,b,comments)\n",
    "diff = (result - b)\n",
    "word = \"\"\n",
    "if (diff < 0):\n",
    "    word = \"decrase {} to \".format(int(-diff))\n",
    "if (diff == 0):\n",
    "    word = \"didn't change point to \"\n",
    "if (diff > 0):\n",
    "    word = \"increase {} to \".format(int(diff))\n",
    "print(str(a) + \" give \" + str(b) + \" a review of {} -> \".format(comments) + word + str(int(result)))"
   ]
  },
  {
   "cell_type": "code",
   "execution_count": null,
   "metadata": {},
   "outputs": [],
   "source": []
  }
 ],
 "metadata": {
  "kernelspec": {
   "display_name": "Python 3",
   "language": "python",
   "name": "python3"
  },
  "language_info": {
   "codemirror_mode": {
    "name": "ipython",
    "version": 3
   },
   "file_extension": ".py",
   "mimetype": "text/x-python",
   "name": "python",
   "nbconvert_exporter": "python",
   "pygments_lexer": "ipython3",
   "version": "3.7.2"
  }
 },
 "nbformat": 4,
 "nbformat_minor": 2
}
